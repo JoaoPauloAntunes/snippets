{
 "cells": [
  {
   "cell_type": "code",
   "execution_count": null,
   "metadata": {},
   "outputs": [],
   "source": [
    "import cv2\n",
    "import numpy as np\n",
    "\n",
    "\n",
    "def resize(img, max_size):\n",
    "  h, w = img.shape[:2]\n",
    "  max_dim = np.amax([h, w])\n",
    "\n",
    "  r = max_size / max_dim\n",
    "  dim = (int(r * w), int(r * h))\n",
    "\n",
    "  return cv2.resize(img, dim, interpolation=cv2.INTER_AREA)"
   ]
  },
  {
   "cell_type": "code",
   "execution_count": null,
   "metadata": {},
   "outputs": [],
   "source": [
    "img_path = r'images\\20220517-151504_03500-02100_MkyC2thMoSqnzcQyvzuDWJ.jpg'\n",
    "cv2.imwrite(img_path.replace('tray', 'thumbnail'), resize(cv2.imread(img_path, cv2.IMREAD_UNCHANGED), 256))"
   ]
  }
 ],
 "metadata": {
  "language_info": {
   "name": "python"
  },
  "orig_nbformat": 4
 },
 "nbformat": 4,
 "nbformat_minor": 2
}
